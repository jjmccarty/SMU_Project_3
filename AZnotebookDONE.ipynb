{
 "cells": [
  {
   "cell_type": "code",
   "execution_count": 2,
   "metadata": {},
   "outputs": [],
   "source": [
    "import gradio as gr\n",
    "import pandas as pd\n",
    "import os\n",
    "import tempfile\n",
    "import speech_recognition as sr\n",
    "import time\n",
    "import playsound\n",
    "from langchain.prompts import PromptTemplate\n",
    "from langchain.llms import OpenAI\n",
    "from langchain.chains import LLMChain\n",
    "from dotenv import load_dotenv\n",
    "from transformers import pipeline\n",
    "from langchain_google_genai import ChatGoogleGenerativeAI\n",
    "from langchain.chains import APIChain\n",
    "from gtts import gTTS"
   ]
  },
  {
   "cell_type": "code",
   "execution_count": 3,
   "metadata": {},
   "outputs": [],
   "source": [
    "# Load environment variables.\n",
    "load_dotenv()\n",
    "\n",
    "# Get the Gemini API key.\n",
    "GEMINI_API_KEY = os.getenv('GEMINI_API_KEY')\n",
    "\n",
    "# Verify that the Gemini API key is set.\n",
    "if GEMINI_API_KEY is None:\n",
    "    raise ValueError(\"The Gemini API key is not set. Please set the GEMINI_API_KEY environment variable.\")\n",
    "\n",
    "# Initialize the Gemini model\n",
    "#llm = OpenAI(api_key=GEMINI_API_KEY, model=\"text-davinci-003\")\n",
    "\n",
    "llm = ChatGoogleGenerativeAI(google_api_key=GEMINI_API_KEY, model=\"gemini-1.5-flash\", temperature=0.9)"
   ]
  },
  {
   "cell_type": "code",
   "execution_count": 4,
   "metadata": {},
   "outputs": [],
   "source": [
    "# Text description of API spec.\n",
    "spec_str = \"\"\"\n",
    "\n",
    "Instructions for responding:\n",
    "\n",
    "Use the Open Library Search API to get up to 4 books related to the person the book is requested for.  \n",
    "When responding pull any 4 random books from the list do not include any books the users asks to exclude. \n",
    "Provide the response to the user with the title and author of the books in natural language. \n",
    "Ask the user if they want more information about a book\n",
    "\n",
    "When a user asks for information about a book by the title:\n",
    "use Open Library Search API to get the description of the book between 100 and 200 words in length, if there\n",
    "is no description available tell the user a description isn't available and list 4 similar books.\n",
    "\n",
    "When a user asks for information about the author:\n",
    "use Open Library Search API to get information about the author.\n",
    "Respond to the user by telling them about the author and \n",
    "use Open Library Search API to provide 2 more books written by that author.\n",
    "\n",
    "Open Library provides an experimental API to search.\n",
    "\n",
    "WARNING: This API is under active development and may change in future.\n",
    "\n",
    "Overview & Features\n",
    "The Open Library Search API is one of the most convenient and complete ways to retrieve book data on Open Library. The API:\n",
    "\n",
    "Is able to return data for multiple books in a single request/response\n",
    "Returns both Work level information about the book, as well as Edition level information (such as)\n",
    "Author IDs are returned which you can use to fetch the author's image, if available\n",
    "Options are available to return Book Availability along with the response.\n",
    "Powerful sorting options are available, such as star ratings, publication date, and number of editions.\n",
    "Endpoint\n",
    "The endpoint for this API is:\n",
    "https://openlibrary.org/search.json\n",
    "\n",
    "Examples\n",
    "The URL format for API is simple. Take the search URL and add .json to the end. Eg:\n",
    "\n",
    "https://openlibrary.org/search.json?q=the+lord+of+the+rings\n",
    "https://openlibrary.org/search.json?title=the+lord+of+the+rings\n",
    "https://openlibrary.org/search.json?author=tolkien&sort=new\n",
    "https://openlibrary.org/search.json?q=the+lord+of+the+rings&page=2\n",
    "https://openlibrary.org/search/authors.json?q=twain\n",
    "Using Thing IDs to get Images\n",
    "You can use the olid (Open Library ID) for authors and books to fetch covers by olid, e.g.:\n",
    "https://covers.openlibrary.org/a/olid/OL23919A-M.jpg\n",
    "\n",
    "URL Parameters\n",
    "Parameter\tDescription\n",
    "q\tThe solr query. See Search HowTo for sample queries\n",
    "fields\tThe fields to get back from solr. Use the special value * to get all fields (although be prepared for a very large response!).\n",
    "To fetch availability data from archive.org, add the special value, availability. Example: /search.json?q=harry%20potter&fields=*,availability&limit=1. This will fetch the availability data of the first item in the `ia` field.\n",
    "sort\tYou can sort the results by various facets such as new, old, random, or key (which sorts as a string, not as the number stored in the string). For a complete list of sorts facets look here (this link goes to a specific commit, be sure to look at the latest one for changes). The default is to sort by relevance.\n",
    "lang\tThe users language as a two letter (ISO 639-1) language code. This influences but doesn't exclude search results. For example setting this to fr will prefer/display the French edition of a given work, but will still match works that don't have French editions. Adding language:fre on the other hand to the search query will exclude results that don't have a French edition.\n",
    "offset / limit\tUse for pagination.\n",
    "page / limit\tUse for pagination, with limit corresponding to the page size. Note page starts at 1.\n",
    "Include no other text, only the API call URL. Don't use newlines.\"\"\""
   ]
  },
  {
   "cell_type": "code",
   "execution_count": 5,
   "metadata": {},
   "outputs": [
    {
     "name": "stderr",
     "output_type": "stream",
     "text": [
      "c:\\Users\\azamora\\AppData\\Local\\anaconda3\\Lib\\site-packages\\gradio\\utils.py:1003: UserWarning: Expected 2 arguments for function <function run at 0x00000184A7D83880>, received 1.\n",
      "  warnings.warn(\n",
      "c:\\Users\\azamora\\AppData\\Local\\anaconda3\\Lib\\site-packages\\gradio\\utils.py:1007: UserWarning: Expected at least 2 arguments for function <function run at 0x00000184A7D83880>, received 1.\n",
      "  warnings.warn(\n"
     ]
    },
    {
     "name": "stdout",
     "output_type": "stream",
     "text": [
      "* Running on local URL:  http://127.0.0.1:7866\n",
      "\n",
      "Could not create share link. Please check your internet connection or our status page: https://status.gradio.app.\n"
     ]
    },
    {
     "data": {
      "text/html": [
       "<div><iframe src=\"http://127.0.0.1:7866/\" width=\"100%\" height=\"500\" allow=\"autoplay; camera; microphone; clipboard-read; clipboard-write;\" frameborder=\"0\" allowfullscreen></iframe></div>"
      ],
      "text/plain": [
       "<IPython.core.display.HTML object>"
      ]
     },
     "metadata": {},
     "output_type": "display_data"
    },
    {
     "data": {
      "text/plain": []
     },
     "execution_count": 5,
     "metadata": {},
     "output_type": "execute_result"
    },
    {
     "name": "stderr",
     "output_type": "stream",
     "text": [
      "c:\\Users\\azamora\\AppData\\Local\\anaconda3\\Lib\\site-packages\\gradio\\helpers.py:968: UserWarning: Unexpected argument. Filling with None.\n",
      "  warnings.warn(\"Unexpected argument. Filling with None.\")\n",
      "c:\\Users\\azamora\\AppData\\Local\\anaconda3\\Lib\\site-packages\\gradio\\helpers.py:968: UserWarning: Unexpected argument. Filling with None.\n",
      "  warnings.warn(\"Unexpected argument. Filling with None.\")\n",
      "Retrying langchain_google_genai.chat_models._chat_with_retry.<locals>._chat_with_retry in 2.0 seconds as it raised ResourceExhausted: 429 Resource has been exhausted (e.g. check quota)..\n",
      "c:\\Users\\azamora\\AppData\\Local\\anaconda3\\Lib\\site-packages\\gradio\\helpers.py:968: UserWarning: Unexpected argument. Filling with None.\n",
      "  warnings.warn(\"Unexpected argument. Filling with None.\")\n",
      "c:\\Users\\azamora\\AppData\\Local\\anaconda3\\Lib\\site-packages\\gradio\\helpers.py:968: UserWarning: Unexpected argument. Filling with None.\n",
      "  warnings.warn(\"Unexpected argument. Filling with None.\")\n"
     ]
    }
   ],
   "source": [
    "# Define chatbot function.\n",
    "def run(msg, history):\n",
    "    query = {\"question\": msg}\n",
    "    chain = APIChain.from_llm_and_api_docs(llm, spec_str, limit_to_domains=[\"https://openlibrary.org\"])\n",
    "\n",
    "    try:\n",
    "        # Get the text response from APIChain.\n",
    "        response = chain.invoke(query)\n",
    "        text_response = response [\"output\"] \n",
    "\n",
    "        # Convert the text response to speech.\n",
    "        tts = gTTS(text_response, lang='en')\n",
    "        temp_file = tempfile.NamedTemporaryFile(delete=False, suffix=\".mp3\")\n",
    "        tts.save(temp_file.name)\n",
    "        return text_response, temp_file.name\n",
    "        #return error_message, temp_file.name\n",
    "    \n",
    "    except Exception as e:\n",
    "        error_message = f\"Sorry, an error occurred: {e}. Please try again.\"\n",
    "        tts = gTTS(error_message, lang='en')\n",
    "        temp_file = tempfile.NamedTemporaryFile(delete=False, suffix=\".mp3\")\n",
    "        tts.save(temp_file.name)\n",
    "        return error_message, temp_file.name\n",
    "    \n",
    "# Create a Gradio interface.\n",
    "app = gr.Interface(\n",
    "    fn=run,\n",
    "    inputs=\"text\",\n",
    "    outputs=[\n",
    "        \"text\",\n",
    "        \"audio\"         \n",
    "    ],\n",
    "    title=\"Elf Chatbot\",\n",
    "    description=\"This Chatbot can help you find a book for someone.\",\n",
    ")\n",
    "\n",
    "# Launch the Gradio interface.\n",
    "app.launch(share=True)                            "
   ]
  },
  {
   "cell_type": "code",
   "execution_count": null,
   "metadata": {},
   "outputs": [],
   "source": []
  }
 ],
 "metadata": {
  "kernelspec": {
   "display_name": "base",
   "language": "python",
   "name": "python3"
  },
  "language_info": {
   "codemirror_mode": {
    "name": "ipython",
    "version": 3
   },
   "file_extension": ".py",
   "mimetype": "text/x-python",
   "name": "python",
   "nbconvert_exporter": "python",
   "pygments_lexer": "ipython3",
   "version": "3.11.7"
  }
 },
 "nbformat": 4,
 "nbformat_minor": 2
}
